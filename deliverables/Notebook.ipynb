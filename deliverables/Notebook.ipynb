{
 "cells": [
  {
   "cell_type": "markdown",
   "id": "81f15f70",
   "metadata": {},
   "source": [
    "# Fear-Driven-Congestion-Boosted-DCA"
   ]
  },
  {
   "cell_type": "markdown",
   "id": "3f43d196",
   "metadata": {},
   "source": [
    "## Executive Summary"
   ]
  },
  {
   "cell_type": "markdown",
   "id": "34469528",
   "metadata": {},
   "source": [
    "### Modeling Approach Summary\n",
    "This is a dynamic portfolio allocation strategy that adjusts investment weights based on network congestion and market sentiment signals. The model:\n",
    "\n",
    "- Focuses on congestion timing: Uses Bitcoin network fees as a proxy for congestion, applying higher weights when fees are elevated (suggesting network stress/high activity)\n",
    "- Incorporates market sentiment: Leverages the Fear & Greed Index to amplify allocation during extreme fear periods (contrarian approach)\n",
    "- Uses rolling normalization: Applies adaptive scaling with rolling windows to handle Bitcoin's volatile, non-stationary nature"
   ]
  },
  {
   "cell_type": "markdown",
   "id": "f3504ae3",
   "metadata": {},
   "source": [
    "###  EDA Insights That Led to This Strategy\n",
    "- Network Congestion as a Signal: High transaction fees often coincide with increased network activity and price movements, making congestion a valuable timing indicator for allocation decisions.\n",
    "- Sentiment Contrarian Opportunity: The Fear & Greed Index shows that extreme fear periods (FG < 30) often present buying opportunities, hence the exponential weight boosting during these times.\n",
    "- Data Quality Issues: The model excludes 2016-2017 from sentiment adjustments, suggesting the Fear & Greed data was unreliable or unavailable for those early years.\n",
    "- Risk Management: The weight capping (max 0.015) and redistribution mechanism suggests the analysis showed that concentrated bets, while potentially profitable, needed risk controls to prevent excessive exposure on any single day."
   ]
  },
  {
   "cell_type": "markdown",
   "id": "1c6da41a",
   "metadata": {},
   "source": [
    "#### Final Model score recieved for the strategy (50/50 weighting): 72.79%\n",
    "##### Model strengths\n",
    "- The model is computationally efficient and doesn't rely on complex ML techniques that might overfit\n",
    "- The 72.7% score suggests the model successfully captures meaningful patterns in Bitcoin's network congestion and sentiment cycles\n",
    "- The contrarian sentiment approach (boosting allocation during extreme fear) aligns with established behavioral finance principles which becomes more important for bitcoin investment\n",
    "- The weight redistribution mechanism shows sophisticated risk management, preventing excessive concentration while maintaining the core signal\n",
    "##### Model limitations\n",
    "- I could implement more features from the vast data set provided like I was thinking of a strategy of allocating weights according to the macroeconomic factors but due to lack of time couldn't accomplish the strategy\n",
    "- Fear & Greed Index is somewhat subjective and may lag actual market conditions\n",
    "- The model doesn't account for regime changes or structural breaks in Bitcoin's evolution\n",
    "#### Our model has win rate of 71.3%\n",
    "- Optimisation of parameters can give much much better results but because of lack of GPU power I couldn't process that.\n"
   ]
  },
  {
   "cell_type": "markdown",
   "id": "a79aed0a",
   "metadata": {},
   "source": [
    "## Exploratory Data Analysis Highlights\n",
    "[eda_notebook.ipynb](./eda_notebook.ipynb)  \n"
   ]
  },
  {
   "cell_type": "markdown",
   "id": "aa203626",
   "metadata": {},
   "source": [
    "## Model Explnation\n",
    "#### Features used\n",
    "- PriceUSD_coinmetrics: Bitcoin price (available but not actively used in current implementation)\n",
    "- FeeMeanUSD_coinmetrics: Average transaction fee - primary congestion indicator\n",
    "- FeeTotUSD_coinmetrics: Total network fees (selected but not directly used)\n",
    "- TxTfrCnt_coinmetrics: Transaction count (selected but not directly used)\n",
    "- fear_greed_value_feargreed: Market sentiment index (0-100 scale)\n",
    "#### Decision making process\n",
    "##### Step 1: Congestion Signal Generation\n",
    "- Computes 30-day rolling z-score of average fees\n",
    "- Inverts and scales the signal: higher congestion = higher allocation weight\n",
    "- Uses 10-day rolling min-max normalization for adaptive scaling\n",
    "##### Step 2: Sentiment Amplification (post-2017 only)\n",
    "- Extreme Fear (FG < 30): Exponential boost using (1 + 1.1^(30-FG))\n",
    "- Moderate Fear (FG 30-50): Linear scaling (50-FG)/10\n",
    "- Neutral (FG 50-70): Mild scaling (70-FG)/20\n",
    "- Greed (FG > 70): Minimal adjustment (100-FG)/100\n",
    "##### Step 3: Risk Management\n",
    "- Caps individual day weights at 1.5% (vs 0.33% uniform baseline)\n",
    "- Redistributes excess weight to second half of investment period\n",
    "- Maintains minimum weight constraints\n",
    "#### Why it outperforms uniform DCA\n",
    "- Exploits Network Activity Cycles: High transaction fees often coincide with increased adoption, institutional activity, or price momentum. By increasing allocation during congestion, the strategy captures these high-activity periods.\n",
    "- Contrarian Sentiment Timing: The exponential boost during extreme fear (FG < 30) implements a contrarian approach - allocating more when others are selling, often near local bottoms.\n",
    "- Adaptive Scaling: Rolling normalization allows the strategy to adapt to Bitcoin's evolving market structure, unlike static DCA which ignores market conditions entirely.\n",
    "- Risk-Controlled Concentration: The weight redistribution mechanism allows for tactical overweighting while maintaining portfolio discipline.\n",
    "#### Generalization to future data\n",
    "- Robust Underlying Logic: Network congestion as a demand proxy should remain relevant as long as Bitcoin maintains its current fee structure. Fear/greed cycles are fundamental to human psychology and likely to persist\n",
    "- Adaptive Framework: Rolling windows automatically adjust to changing market conditions without requiring model retraining\n",
    "- Conservative Design: The strategy doesn't rely on complex pattern recognition that might overfit historical data\n",
    "- Regime Awareness: Excluding early years for sentiment data shows model awareness of structural changes\n",
    "#### Future Improvement Ideas\n",
    "- We can optimize the parameters to get the better results\n",
    "- Using on-chain metrics: Active addresses, exchange inflows/outflows, HODL waves\n",
    "- Integration of macro indicators like dollar strength, market volatility, inflation rate etc.\n",
    "- Correlation awareness: Reduce allocation when Bitcoin correlates highly with traditional assets\n",
    "- Multi-timeframe analysis: Combine short-term congestion with longer-term trend signals\n",
    "### Model Development template \n",
    "[btc_accumulation_model.ipynb](./btc_accumulation_model.ipynb)\n"
   ]
  }
 ],
 "metadata": {
  "language_info": {
   "name": "python"
  }
 },
 "nbformat": 4,
 "nbformat_minor": 5
}

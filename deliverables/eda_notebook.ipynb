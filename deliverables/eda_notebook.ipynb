{
 "cells": [
  {
   "cell_type": "code",
   "execution_count": null,
   "metadata": {},
   "outputs": [],
   "source": [
    "from PIL import Image\n",
    "import os\n",
    "import matplotlib.pyplot as plt\n",
    "\n",
    "# List of image filenames\n",
    "image_files = ['Graph1.png', 'Graph2.png']\n",
    "\n",
    "# Set up the plot\n",
    "plt.figure(figsize=(10, 5))\n",
    "\n",
    "for i, image_name in enumerate(image_files):\n",
    "    image_path = os.path.join('images', image_name)  \n",
    "    \n",
    "    # Open the image\n",
    "    img = Image.open(image_path)\n",
    "    \n",
    "    # Show image in subplot\n",
    "    plt.subplot(1, 2, i+1)\n",
    "    plt.imshow(img)\n",
    "    plt.title(image_name)\n",
    "    plt.axis('off')\n",
    "\n",
    "plt.tight_layout()\n",
    "plt.show()"
   ]
  }
 ],
 "metadata": {
  "kernelspec": {
   "display_name": "Python 3",
   "language": "python",
   "name": "python3"
  },
  "language_info": {
   "name": "python",
   "version": "3.x"
  }
 },
 "nbformat": 4,
 "nbformat_minor": 2
}
